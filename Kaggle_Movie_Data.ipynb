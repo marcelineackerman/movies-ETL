{
 "cells": [
  {
   "cell_type": "code",
   "execution_count": 1,
   "id": "9c58646e",
   "metadata": {},
   "outputs": [],
   "source": [
    "import pandas as pd"
   ]
  },
  {
   "cell_type": "code",
   "execution_count": 2,
   "id": "ca006c73",
   "metadata": {},
   "outputs": [],
   "source": [
    "file_dir = 'C://Users/USER/Rutgers_Data_Analysis_Bootcamp/Module8_ETL/'"
   ]
  },
  {
   "cell_type": "code",
   "execution_count": 4,
   "id": "2389011b",
   "metadata": {},
   "outputs": [],
   "source": [
    "kaggle_metadata = pd.read_csv(f'{file_dir}movies_metadata.csv',low_memory = False)\n",
    "ratings = pd.read_csv(f'{file_dir}ratings.csv')"
   ]
  },
  {
   "cell_type": "code",
   "execution_count": 10,
   "id": "45a83b76",
   "metadata": {},
   "outputs": [
    {
     "data": {
      "text/html": [
       "<div>\n",
       "<style scoped>\n",
       "    .dataframe tbody tr th:only-of-type {\n",
       "        vertical-align: middle;\n",
       "    }\n",
       "\n",
       "    .dataframe tbody tr th {\n",
       "        vertical-align: top;\n",
       "    }\n",
       "\n",
       "    .dataframe thead th {\n",
       "        text-align: right;\n",
       "    }\n",
       "</style>\n",
       "<table border=\"1\" class=\"dataframe\">\n",
       "  <thead>\n",
       "    <tr style=\"text-align: right;\">\n",
       "      <th></th>\n",
       "      <th>userId</th>\n",
       "      <th>movieId</th>\n",
       "      <th>rating</th>\n",
       "      <th>timestamp</th>\n",
       "    </tr>\n",
       "  </thead>\n",
       "  <tbody>\n",
       "    <tr>\n",
       "      <th>15380262</th>\n",
       "      <td>160059</td>\n",
       "      <td>127098</td>\n",
       "      <td>3.0</td>\n",
       "      <td>1445716229</td>\n",
       "    </tr>\n",
       "    <tr>\n",
       "      <th>3857005</th>\n",
       "      <td>40156</td>\n",
       "      <td>1307</td>\n",
       "      <td>4.0</td>\n",
       "      <td>1248961078</td>\n",
       "    </tr>\n",
       "    <tr>\n",
       "      <th>629814</th>\n",
       "      <td>6373</td>\n",
       "      <td>34</td>\n",
       "      <td>5.0</td>\n",
       "      <td>1403575833</td>\n",
       "    </tr>\n",
       "    <tr>\n",
       "      <th>21010111</th>\n",
       "      <td>218340</td>\n",
       "      <td>2605</td>\n",
       "      <td>3.0</td>\n",
       "      <td>1047397376</td>\n",
       "    </tr>\n",
       "    <tr>\n",
       "      <th>24813235</th>\n",
       "      <td>258034</td>\n",
       "      <td>64030</td>\n",
       "      <td>3.0</td>\n",
       "      <td>1272230770</td>\n",
       "    </tr>\n",
       "  </tbody>\n",
       "</table>\n",
       "</div>"
      ],
      "text/plain": [
       "          userId  movieId  rating   timestamp\n",
       "15380262  160059   127098     3.0  1445716229\n",
       "3857005    40156     1307     4.0  1248961078\n",
       "629814      6373       34     5.0  1403575833\n",
       "21010111  218340     2605     3.0  1047397376\n",
       "24813235  258034    64030     3.0  1272230770"
      ]
     },
     "execution_count": 10,
     "metadata": {},
     "output_type": "execute_result"
    }
   ],
   "source": []
  },
  {
   "cell_type": "code",
   "execution_count": null,
   "id": "bda0a214",
   "metadata": {},
   "outputs": [],
   "source": []
  }
 ],
 "metadata": {
  "kernelspec": {
   "display_name": "PythonData",
   "language": "python",
   "name": "pythondata"
  },
  "language_info": {
   "codemirror_mode": {
    "name": "ipython",
    "version": 3
   },
   "file_extension": ".py",
   "mimetype": "text/x-python",
   "name": "python",
   "nbconvert_exporter": "python",
   "pygments_lexer": "ipython3",
   "version": "3.7.11"
  }
 },
 "nbformat": 4,
 "nbformat_minor": 5
}
